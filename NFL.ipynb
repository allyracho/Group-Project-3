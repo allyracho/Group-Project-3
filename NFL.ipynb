{
  "nbformat": 4,
  "nbformat_minor": 0,
  "metadata": {
    "colab": {
      "name": "NFL",
      "provenance": [],
      "collapsed_sections": [],
      "include_colab_link": true
    },
    "kernelspec": {
      "name": "python3",
      "display_name": "Python 3"
    }
  },
  "cells": [
    {
      "cell_type": "markdown",
      "metadata": {
        "id": "view-in-github",
        "colab_type": "text"
      },
      "source": [
        "<a href=\"https://colab.research.google.com/github/allyracho/Group-Project-3/blob/master/NFL.ipynb\" target=\"_parent\"><img src=\"https://colab.research.google.com/assets/colab-badge.svg\" alt=\"Open In Colab\"/></a>"
      ]
    },
    {
      "cell_type": "markdown",
      "metadata": {
        "id": "1DvSjgEshh-k",
        "colab_type": "text"
      },
      "source": [
        "![alt text](https://raw.githubusercontent.com/jjl6096/.com/master/G2.png)"
      ]
    },
    {
      "cell_type": "code",
      "metadata": {
        "colab_type": "code",
        "id": "riJ0E2dDzTnQ",
        "colab": {}
      },
      "source": [
        "import sqlite3 \n",
        "connectionToDatabase = sqlite3.connect('NFL') \n",
        "\n",
        "cursor = connectionToDatabase.cursor()\n",
        "cursor.execute('''drop table IF EXISTS HeadCoach''')\n",
        "connectionToDatabase.commit()\n",
        "\n",
        "cursor.execute('''create table HeadCoach (coachID text PRIMARY KEY, F_Name text, L_Name text, TeamName text, YearsPresent int, NumberofWins int)''')\n",
        "connectionToDatabase.commit()\n",
        "\n",
        "cursor = connectionToDatabase.cursor()\n",
        "cursor.execute('''drop table IF EXISTS HighestPaidPlayer''')\n",
        "connectionToDatabase.commit()\n",
        "\n",
        "cursor.execute('''create table HighestPaidPlayer (playerID text PRIMARY KEY,  F_Name text, L_Name text, TeamName text, position text, NetWorth int, DOB int)''')\n",
        "connectionToDatabase.commit()\n",
        "\n",
        "cursor.execute('''drop table IF EXISTS Team''')\n",
        "connectionToDatabase.commit()\n",
        "\n",
        "cursor.execute('''create table Team (TeamName text PRIMARY KEY, Players int, Coach text, Location text, NumberofWins int)''')\n",
        "connectionToDatabase.commit()\n",
        "\n",
        "cursor = connectionToDatabase.cursor()\n",
        "cursor.execute('''drop table IF EXISTS Revenue''')\n",
        "connectionToDatabase.commit()\n",
        "\n",
        "cursor.execute('''create table Revenue (TeamName text PRIMARY KEY, Location text, TicketSales int, MerchandiseSales int)''')\n",
        "connectionToDatabase.commit()\n",
        "\n",
        "cursor = connectionToDatabase.cursor()\n",
        "cursor.execute('''drop table IF EXISTS MVPWinners''')\n",
        "connectionToDatabase.commit()\n",
        "\n",
        "cursor.execute('''create table MVPWinners (PlayerID text PRIMARY KEY, F_Name text, L_Name text, TeamName text, Position text, AgeofWinning int)''')\n",
        "connectionToDatabase.commit()\n",
        "\n",
        "cursor = connectionToDatabase.cursor()\n",
        "cursor.execute('''drop table IF EXISTS QBR''')\n",
        "connectionToDatabase.commit()\n",
        "\n",
        "cursor.execute('''create table QBR (PlayerID text PRIMARY KEY, F_Name text, L_Name text, TeamName text, Completionpercentage real, YearsActive real)''')\n",
        "connectionToDatabase.commit()"
      ],
      "execution_count": 0,
      "outputs": []
    },
    {
      "cell_type": "code",
      "metadata": {
        "id": "_ydoMvwhbvCp",
        "colab_type": "code",
        "colab": {}
      },
      "source": [
        "cursor.execute('''insert into HeadCoach values ('46', 'Doug', 'Pederson', 'Philidelphia Eagles', 4, 37);''')\n",
        "connectionToDatabase.commit()\n",
        "cursor.execute('''insert into HeadCoach values ('30', 'Bill', 'Belichick', 'New England Patriots', 19, 202);''')\n",
        "connectionToDatabase.commit()\n",
        "cursor.execute('''insert into HeadCoach values ('12', 'Mike', 'Tomlin', 'Pittsburg Steelers', 12, 129);''')\n",
        "connectionToDatabase.commit()\n",
        "cursor.execute('''insert into HeadCoach values ('23', 'Sean', 'McVay', 'Los Angeles Rams', 2, 29);''')\n",
        "connectionToDatabase.commit()\n",
        "cursor.execute('''insert into HeadCoach values ('27', 'Adam', 'Gase', 'New York Jets', 1, 4);''')\n",
        "connectionToDatabase.commit()"
      ],
      "execution_count": 0,
      "outputs": []
    },
    {
      "cell_type": "code",
      "metadata": {
        "id": "EXr0PnNcoEpQ",
        "colab_type": "code",
        "colab": {}
      },
      "source": [
        "cursor.execute('''insert into Revenue values ('Philidelphia Eagles', 'Philidelphia, PA', 78000000.00, 198000000.00);''')\n",
        "connectionToDatabase.commit()\n",
        "cursor.execute('''insert into Revenue values ('New England Patriots', 'Boston, MA', 104000000.00, 360000000.00);''')\n",
        "connectionToDatabase.commit()\n",
        "cursor.execute('''insert into Revenue values ('Pittsburg Steelers', 'Pittsburg, PA', 85000000.00, 154000000.00);''')\n",
        "connectionToDatabase.commit()\n",
        "cursor.execute('''insert into Revenue values ('Los Angeles Rams', 'Los Angeles, CA', 70000000.00, 93000000.00);''')\n",
        "connectionToDatabase.commit()\n",
        "cursor.execute('''insert into Revenue values ('New York Jets', 'New York, NY', 65000000.00, 81300000.00);''')\n",
        "connectionToDatabase.commit()"
      ],
      "execution_count": 0,
      "outputs": []
    },
    {
      "cell_type": "code",
      "metadata": {
        "colab_type": "code",
        "id": "tQ_kGkq8z3b_",
        "colab": {}
      },
      "source": [
        "insertStatement =  \"\"\"insert into Team values ('Philidelphia Eagles', '12', '46', 'Philidephia, PA', 37)\"\"\" \n",
        "cursor.execute(insertStatement)\n",
        "insertStatement =  \"\"\"insert into Team values ('New England Patriots', '23', '30', 'Boston, MA', 202)\"\"\" \n",
        "cursor.execute(insertStatement)\n",
        "insertStatement =  \"\"\"insert into Team values ('Pittsburg Steelers', '34', '12', 'Pittsburgh, PA', 129)\"\"\" \n",
        "cursor.execute(insertStatement)\n",
        "insertStatement =  \"\"\"insert into Team values ('Los Angeles Rams', '45', '23', 'Los Angeles, CA', 29)\"\"\" \n",
        "cursor.execute(insertStatement)\n",
        "insertStatement = \"\"\"insert  into Team values ('New York Jets', '46','27','New York, NY', 4)\"\"\"\n",
        "connectionToDatabase.commit()"
      ],
      "execution_count": 0,
      "outputs": []
    },
    {
      "cell_type": "code",
      "metadata": {
        "id": "18fPlZhFnckM",
        "colab_type": "code",
        "colab": {}
      },
      "source": [
        "cursor.execute('''insert into MVPWinners values ('20', 'Patrick', 'Mahomes', 'Kansas City Chiefs', 'QB', 24);''')\n",
        "connectionToDatabase.commit()\n",
        "cursor.execute('''insert into MVPWinners values ('3', 'Tom', 'Brady', 'New England Patriots', 'QB', 41);''')\n",
        "connectionToDatabase.commit()\n",
        "cursor.execute('''insert into MVPWinners values ('122', 'Matt', 'Ryan', 'Atlanta Falcons', 'QB', 32);''')\n",
        "connectionToDatabase.commit()\n",
        "cursor.execute('''insert into MVPWinners values ('75', 'Cam', 'Newton', 'Carolina Panthers', 'QB', 27);''')\n",
        "connectionToDatabase.commit()\n",
        "cursor.execute('''insert into MVPWinners values ('12', 'Aaron', 'Rodgers', 'Green Bay Packers', 'QB', 31);''')\n",
        "connectionToDatabase.commit()"
      ],
      "execution_count": 0,
      "outputs": []
    },
    {
      "cell_type": "code",
      "metadata": {
        "id": "gAOv-nok0WpH",
        "colab_type": "code",
        "colab": {}
      },
      "source": [
        "cursor.execute('''insert into QBR values ('12', 'Carson', 'Werkz', 'Philadelphia Eagles', '65.5%', 5);''')\n",
        "connectionToDatabase.commit()\n",
        "cursor.execute('''insert into QBR values ('23', 'Mason', 'Pudolph', 'Pittsburgh Steelers', '78.7%', 3);''')\n",
        "connectionToDatabase.commit()\n",
        "cursor.execute('''insert into QBR values ('34', 'Kirk', 'Cousins', 'Minnesota Vikings', '35.5', 4);''')\n",
        "connectionToDatabase.commit()\n",
        "cursor.execute('''insert into QBR values ('45', 'Josh', 'Rosen', 'Miami Dophins', '39.4', 3);''')\n",
        "connectionToDatabase.commit()\n",
        "cursor.execute('''insert into QBR values ('20', 'Luke', 'Faulk', 'New York Jets', '26.2', 2);''')\n",
        "connectionToDatabase.commit()"
      ],
      "execution_count": 0,
      "outputs": []
    },
    {
      "cell_type": "markdown",
      "metadata": {
        "id": "DvogBSos_v1u",
        "colab_type": "text"
      },
      "source": [
        "What is the total amount of revenue produced by ticket sales among the 5 teams?\n"
      ]
    },
    {
      "cell_type": "code",
      "metadata": {
        "id": "ejE87BL2_Wsr",
        "colab_type": "code",
        "outputId": "f1135f3f-f6e7-472a-fbfc-0eef8e563990",
        "colab": {
          "base_uri": "https://localhost:8080/",
          "height": 34
        }
      },
      "source": [
        "cursor.execute('''select SUM(TicketSales) from Revenue''')\n",
        "for row in cursor.fetchall():\n",
        "  print (row)"
      ],
      "execution_count": 0,
      "outputs": [
        {
          "output_type": "stream",
          "text": [
            "(402000000,)\n"
          ],
          "name": "stdout"
        }
      ]
    },
    {
      "cell_type": "markdown",
      "metadata": {
        "id": "0j9_3hv8yOru",
        "colab_type": "text"
      },
      "source": [
        "The group decided on this question because we were fascinated by the high intake many teams achieve. We took averages and believed the total to be around $5 million. The result was close to what was expected, but we over-estimated. This suggests how much revenue the NFL is making off all teams, since the data only include ticket sale revenue of five teams. "
      ]
    },
    {
      "cell_type": "markdown",
      "metadata": {
        "id": "LZ6-b9NwvaY0",
        "colab_type": "text"
      },
      "source": [
        " How many of the MVP Winners are above the age of 25?"
      ]
    },
    {
      "cell_type": "code",
      "metadata": {
        "id": "EKk7M0WMvkxB",
        "colab_type": "code",
        "outputId": "edb9f8ac-b9e0-419d-8a5e-102172dc46dc",
        "colab": {
          "base_uri": "https://localhost:8080/",
          "height": 34
        }
      },
      "source": [
        "cursor.execute('''select Count(AgeofWinning) from MVPWinners WHERE AgeofWinning> 25 ''')\n",
        "for row in cursor.fetchall():\n",
        "  print (row)"
      ],
      "execution_count": 0,
      "outputs": [
        {
          "output_type": "stream",
          "text": [
            "(4,)\n"
          ],
          "name": "stdout"
        }
      ]
    },
    {
      "cell_type": "markdown",
      "metadata": {
        "id": "b9zoMAob268D",
        "colab_type": "text"
      },
      "source": [
        "This question is important because we are interested in seeing how many players are keeping good form with their growing age. The group is also interesting in seeing if more older players are winning. The results match up to our expectations. We can see that there are a lot of players winning MVP older than 25."
      ]
    },
    {
      "cell_type": "markdown",
      "metadata": {
        "id": "35_NX59cz8Oz",
        "colab_type": "text"
      },
      "source": [
        "Where is the location of each team?"
      ]
    },
    {
      "cell_type": "code",
      "metadata": {
        "id": "miZozxM70JfT",
        "colab_type": "code",
        "outputId": "04de24d2-c63b-4707-853c-e3d54d8c1269",
        "colab": {
          "base_uri": "https://localhost:8080/",
          "height": 85
        }
      },
      "source": [
        "cursor.execute('''select h.TeamName, t.Location from Team t, HeadCoach h where t.Coach=h.coachID''')\n",
        "for row in cursor.fetchall():\n",
        "  print (row)\n",
        "  "
      ],
      "execution_count": 0,
      "outputs": [
        {
          "output_type": "stream",
          "text": [
            "('Philidelphia Eagles', 'Philidephia, PA')\n",
            "('New England Patriots', 'Boston, MA')\n",
            "('Pittsburg Steelers', 'Pittsburgh, PA')\n",
            "('Los Angeles Rams', 'Los Angeles, CA')\n"
          ],
          "name": "stdout"
        }
      ]
    },
    {
      "cell_type": "markdown",
      "metadata": {
        "id": "eonsjuPgusHb",
        "colab_type": "text"
      },
      "source": [
        "The group felt this to be a suitable question as it easily locates the team and displays which city and state it is in. Our expections for what would be shown were correct, with the team name being first, and the location following after. This question allows for any team to be found conveniently if their team name does not necessarily match their location. "
      ]
    }
  ]
}